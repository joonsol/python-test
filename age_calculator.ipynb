{
  "nbformat": 4,
  "nbformat_minor": 0,
  "metadata": {
    "colab": {
      "provenance": [],
      "authorship_tag": "ABX9TyPsDHgVDPmjGOoVBDWe7OGh",
      "include_colab_link": true
    },
    "kernelspec": {
      "name": "python3",
      "display_name": "Python 3"
    },
    "language_info": {
      "name": "python"
    }
  },
  "cells": [
    {
      "cell_type": "markdown",
      "metadata": {
        "id": "view-in-github",
        "colab_type": "text"
      },
      "source": [
        "<a href=\"https://colab.research.google.com/github/joonsol/python-test/blob/main/age_calculator.ipynb\" target=\"_parent\"><img src=\"https://colab.research.google.com/assets/colab-badge.svg\" alt=\"Open In Colab\"/></a>"
      ]
    },
    {
      "cell_type": "code",
      "execution_count": 1,
      "metadata": {
        "colab": {
          "base_uri": "https://localhost:8080/"
        },
        "id": "6wZcHzU8mlOR",
        "outputId": "342702e2-605c-4656-b44f-4197963013f2"
      },
      "outputs": [
        {
          "output_type": "stream",
          "name": "stdout",
          "text": [
            "✅ app.py 파일 생성 완료\n"
          ]
        }
      ],
      "source": [
        "code = \"\"\"\n",
        "import streamlit as st\n",
        "import datetime\n",
        "\n",
        "st.title(\"📅 만나이 계산기\")\n",
        "\n",
        "year = st.number_input(\"출생 연도\", min_value=1900, max_value=2100, step=1)\n",
        "month = st.number_input(\"출생 월\", min_value=1, max_value=12, step=1)\n",
        "day = st.number_input(\"출생 일\", min_value=1, max_value=31, step=1)\n",
        "\n",
        "if st.button(\"계산하기\"):\n",
        "    try:\n",
        "        birth = datetime.date(int(year), int(month), int(day))\n",
        "        today = datetime.date.today()\n",
        "        age = today.year - birth.year\n",
        "        if (today.month, today.day) < (birth.month, birth.day):\n",
        "            age -= 1\n",
        "        st.success(f\"현재 만나이는 {age}세입니다.\")\n",
        "    except:\n",
        "        st.error(\"올바른 날짜를 입력해 주세요.\")\n",
        "\"\"\"\n",
        "\n",
        "with open(\"app.py\", \"w\", encoding=\"utf-8\") as f:\n",
        "    f.write(code)\n",
        "\n",
        "print(\"✅ app.py 파일 생성 완료\")\n"
      ]
    },
    {
      "cell_type": "code",
      "source": [
        "with open(\"requirements.txt\", \"w\") as f:\n",
        "    f.write(\"streamlit\\n\")\n",
        "\n",
        "print(\"✅ requirements.txt 파일 생성 완료\")\n"
      ],
      "metadata": {
        "colab": {
          "base_uri": "https://localhost:8080/"
        },
        "id": "q1E5FIQwm46y",
        "outputId": "8ba3596b-98bd-4d75-d07d-56ce0dac8aae"
      },
      "execution_count": 2,
      "outputs": [
        {
          "output_type": "stream",
          "name": "stdout",
          "text": [
            "✅ requirements.txt 파일 생성 완료\n"
          ]
        }
      ]
    },
    {
      "cell_type": "markdown",
      "source": [],
      "metadata": {
        "id": "5A7ySBdOm0sK"
      }
    }
  ]
}